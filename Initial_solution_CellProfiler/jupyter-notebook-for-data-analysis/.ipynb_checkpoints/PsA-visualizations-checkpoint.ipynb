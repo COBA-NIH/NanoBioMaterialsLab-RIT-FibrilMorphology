{
 "cells": [
  {
   "cell_type": "code",
   "execution_count": null,
   "metadata": {},
   "outputs": [],
   "source": [
    "import seaborn as sns\n",
    "import pandas as pd\n",
    "import numpy as np\n",
    "from scipy.stats import mannwhitneyu "
   ]
  },
  {
   "cell_type": "code",
   "execution_count": null,
   "metadata": {},
   "outputs": [],
   "source": [
    "# function for significance testing \n",
    "\n",
    "def mannwhitneyu_test(df, grouping_category, control, metric_to_test):\n",
    "    \"\"\" Takes a dataframe in the long format, \n",
    "    a grouping category that defines how to divide the data, \n",
    "    the control for the grouping category and \n",
    "    the measurement contained in a separate df column (e.g. area)\n",
    "    to test against different grouping categories\n",
    "    \n",
    "    Computes the Mann Whitney U test and prints the results\n",
    "    Adjusts for significance w/ a Bonferroni correction for the p-value\n",
    "    \"\"\"\n",
    "    \n",
    "    df_grouped = df.groupby(grouping_category)\n",
    "\n",
    "    control_metric = df.loc[df[grouping_category] == control][metric_to_test]\n",
    "\n",
    "    for drug, drug_df in df_grouped:\n",
    "        if drug != control:\n",
    "            drug_metric = drug_df[metric_to_test]\n",
    "            \n",
    "            mannwhitney_result = mannwhitneyu(control_metric, drug_metric, alternative='two-sided')[1]\n",
    "            print('The p-value for {drug} compared to {control} is {p_value}'.format(\n",
    "                drug= drug, control = control, p_value = str(mannwhitney_result)))\n",
    "\n",
    "            if mannwhitney_result < 0.05 / (len(df_grouped)-1):\n",
    "                print(\"Significant\")\n",
    "            if mannwhitney_result >= 0.05 / (len(df_grouped)-1):\n",
    "                print(\"Not significant\")\n"
   ]
  },
  {
   "cell_type": "code",
   "execution_count": null,
   "metadata": {},
   "outputs": [],
   "source": [
    "# data import and merging into one dataframe\n",
    "\n",
    "# paths to data\n",
    "cells_csv_path = 'PsA_FilteredCells.csv'\n",
    "\n",
    "# import data \n",
    "psa_df = pd.read_csv(cells_csv_path)\n",
    "\n",
    "# rename all Cefsul drugs to cefsul; this reflects a metadata error\n",
    "# from the original filenames\n",
    "psa_df = psa_df.replace(to_replace='Cefsul', value='cefsul')\n",
    "\n",
    "psa_df.head()"
   ]
  },
  {
   "cell_type": "markdown",
   "metadata": {},
   "source": [
    "# Visualizing distributions by drug type\n",
    "\n",
    "## Area\n",
    "\n",
    "Here, I've plotted the area (# of pixels per segmented object). The distributions are separated by drug type. The cefsul and pip groups appear to contain more large objects than the DMSO controls, while the 1401 group appears to contain more small objects."
   ]
  },
  {
   "cell_type": "code",
   "execution_count": null,
   "metadata": {},
   "outputs": [],
   "source": [
    "ax = sns.boxenplot(x=\"Metadata_drug\", \n",
    "                    y=\"AreaShape_Area\",\n",
    "                    data=psa_df, \n",
    "                    order = ['DMSO', 'A22', 'Ami', 'cefsul', 'Cip', 'Mec', 'Pip', '1401'])\n",
    "\n",
    "ax.get_figure().savefig('area.png', bbox_inches = 'tight', dpi = 300, format = 'png', transparent = True)\n"
   ]
  },
  {
   "cell_type": "markdown",
   "metadata": {},
   "source": [
    "These are the underlying numbers for those distributions:"
   ]
  },
  {
   "cell_type": "code",
   "execution_count": null,
   "metadata": {},
   "outputs": [],
   "source": [
    "psa_df.groupby(\"Metadata_drug\")['AreaShape_Area'].describe()"
   ]
  },
  {
   "cell_type": "markdown",
   "metadata": {},
   "source": [
    "Here is the significance testing for these data. We've used a non-parametric test, since the data do not appear normally distributed, and adjusted the p-value for the number of tests. "
   ]
  },
  {
   "cell_type": "code",
   "execution_count": null,
   "metadata": {},
   "outputs": [],
   "source": [
    "mannwhitneyu_test(psa_df, 'Metadata_drug', 'DMSO', 'AreaShape_Area')"
   ]
  },
  {
   "cell_type": "markdown",
   "metadata": {},
   "source": [
    "## Major axis length\n",
    "\n",
    "Next, I've plotted the distributions of major axis length by drug type. Again, the cefsul and pip groups both appear to have more objects with longer major axis length, consistent with their appearance. The 1401 treated bacteria appear to have a shorter major axis length, on average."
   ]
  },
  {
   "cell_type": "code",
   "execution_count": null,
   "metadata": {},
   "outputs": [],
   "source": [
    "ax = sns.boxenplot(x=\"Metadata_drug\", \n",
    "                    y=\"AreaShape_MajorAxisLength\", \n",
    "                    data=psa_df, \n",
    "                    order = ['DMSO', 'A22', 'Ami', 'cefsul', 'Cip', 'Mec', 'Pip', '1401'])\n",
    "\n",
    "ax.get_figure().savefig('major-axis-length.png', bbox_inches = 'tight', dpi = 300, format = 'png', transparent = True)"
   ]
  },
  {
   "cell_type": "markdown",
   "metadata": {},
   "source": [
    "These are the underlying numbers for those distributions:"
   ]
  },
  {
   "cell_type": "code",
   "execution_count": null,
   "metadata": {},
   "outputs": [],
   "source": [
    "psa_df.groupby(\"Metadata_drug\")['AreaShape_MajorAxisLength'].describe()"
   ]
  },
  {
   "cell_type": "markdown",
   "metadata": {},
   "source": [
    "And the significance testing:"
   ]
  },
  {
   "cell_type": "code",
   "execution_count": null,
   "metadata": {},
   "outputs": [],
   "source": [
    "mannwhitneyu_test(psa_df, 'Metadata_drug', 'DMSO', 'AreaShape_MajorAxisLength')"
   ]
  },
  {
   "cell_type": "markdown",
   "metadata": {},
   "source": [
    "## Minor axis length (width)\n",
    "\n",
    "Next, I've plotted the distributions of minor axis length (aka object width) by drug type. In contrast to the major axis, the minor axis length doesn't appear to change between drug groups (note the very different scale on this y-axis compared to the area and major axis length plots). My conclusion is that the bacteria are increasing area predominantly by elongating. Note that the A22 group does appear to have an elongated minor axis, suggesting that bacteria in this treatment class are wider than control: \n",
    "\n"
   ]
  },
  {
   "cell_type": "code",
   "execution_count": null,
   "metadata": {},
   "outputs": [],
   "source": [
    "# note the difference in axis c/w major axis length\n",
    "\n",
    "ax = sns.boxenplot(x=\"Metadata_drug\", \n",
    "                    y=\"AreaShape_MinorAxisLength\", \n",
    "                    data=psa_df, \n",
    "                    order = ['DMSO', 'A22', 'Ami', 'cefsul', 'Cip', 'Mec', 'Pip', '1401'])\n",
    "\n",
    "ax.get_figure().savefig('minoraxislength.png', bbox_inches = 'tight', dpi = 300, format = 'png', transparent = True)\n"
   ]
  },
  {
   "cell_type": "markdown",
   "metadata": {},
   "source": [
    "These are the underlying numbers for those distributions:"
   ]
  },
  {
   "cell_type": "code",
   "execution_count": null,
   "metadata": {},
   "outputs": [],
   "source": [
    "psa_df.groupby(\"Metadata_drug\")['AreaShape_MinorAxisLength'].describe()"
   ]
  },
  {
   "cell_type": "markdown",
   "metadata": {},
   "source": [
    "The significance testing:"
   ]
  },
  {
   "cell_type": "code",
   "execution_count": null,
   "metadata": {},
   "outputs": [],
   "source": [
    "mannwhitneyu_test(psa_df, 'Metadata_drug', 'DMSO', 'AreaShape_MinorAxisLength')"
   ]
  },
  {
   "cell_type": "markdown",
   "metadata": {},
   "source": [
    "## Area relative to major axis length\n",
    "\n",
    "Here I've plotted the area as a function of major axis length. For all drug types, these show a tight correlation:\n"
   ]
  },
  {
   "cell_type": "code",
   "execution_count": null,
   "metadata": {},
   "outputs": [],
   "source": [
    "g = sns.FacetGrid(psa_df, \n",
    "                  col=\"Metadata_drug\", \n",
    "                  col_order=['DMSO', 'A22', 'Ami', 'cefsul', 'Cip', 'Mec', 'Pip', '1401'],\n",
    "                  col_wrap=2,\n",
    "                  hue=\"Metadata_drug\",\n",
    "                  xlim=(0,300),\n",
    "                 ylim=(0,3000))\n",
    "\n",
    "g.map(sns.scatterplot, \n",
    "      \"AreaShape_MajorAxisLength\", \n",
    "      \"AreaShape_Area\")\n",
    "\n",
    "g.savefig('areabymajoraxis.png', bbox_inches = 'tight', dpi = 300, format = 'png', transparent = True)\n"
   ]
  },
  {
   "cell_type": "markdown",
   "metadata": {},
   "source": [
    "## Eccentricity\n",
    "\n",
    "Another way to quantify shape is using eccentricity, which ranges between 0 (a circle) and 1 (a line segment). See https://cellprofiler-manual.s3.amazonaws.com/CellProfiler-4.0.6/_images/MeasureObjectSizeShape_Eccentricity.png\n",
    "for a visual. \n",
    "\n",
    "The distributions of eccentricity nicely show that the A22, Mec, and 1401 groups are more round than DMSO controls while the cefsul and pip groups. Note that the A22 group appears to be the roundest of all the drug classes:"
   ]
  },
  {
   "cell_type": "code",
   "execution_count": null,
   "metadata": {},
   "outputs": [],
   "source": [
    "ax = sns.boxenplot(x=\"Metadata_drug\", \n",
    "                    y=\"AreaShape_Eccentricity\",\n",
    "                    data=psa_df, \n",
    "                    order = ['DMSO', 'A22', 'Ami', 'cefsul', 'Cip', 'Mec', 'Pip', '1401'])\n",
    "\n",
    "ax.get_figure().savefig('eccentricity.png', bbox_inches = 'tight', dpi = 300, format = 'png', transparent = True)\n"
   ]
  },
  {
   "cell_type": "code",
   "execution_count": null,
   "metadata": {},
   "outputs": [],
   "source": [
    "psa_df.groupby(\"Metadata_drug\")['AreaShape_Eccentricity'].describe()"
   ]
  },
  {
   "cell_type": "markdown",
   "metadata": {},
   "source": [
    "Here is the significance testing for eccentricity:"
   ]
  },
  {
   "cell_type": "code",
   "execution_count": null,
   "metadata": {},
   "outputs": [],
   "source": [
    "mannwhitneyu_test(psa_df, 'Metadata_drug', 'DMSO', 'AreaShape_Eccentricity')"
   ]
  },
  {
   "cell_type": "markdown",
   "metadata": {},
   "source": [
    "## Intensity\n",
    "\n",
    "I wanted to test if our mean intensity distributions are different between drug groups, which would suggest that one group is more affected by dim objects than other groups. \n",
    "\n",
    "The 1401 group does appear to have fewer dim objects, which seems to reflect fewer dim objects in the original images (on review of the data).\n"
   ]
  },
  {
   "cell_type": "code",
   "execution_count": null,
   "metadata": {},
   "outputs": [],
   "source": [
    "ax = sns.boxenplot(x=\"Metadata_drug\", \n",
    "                    y=\"Intensity_MeanIntensity_OrigCellWall\",\n",
    "                    data=psa_df, \n",
    "                    order = ['DMSO', 'A22', 'Ami', 'cefsul', 'Cip', 'Mec', 'Pip', '1401'])\n",
    "\n",
    "ax.get_figure().savefig('intensity.png', bbox_inches = 'tight', dpi = 300, format = 'png', transparent = True)\n"
   ]
  },
  {
   "cell_type": "code",
   "execution_count": null,
   "metadata": {},
   "outputs": [],
   "source": [
    "psa_df.groupby(\"Metadata_drug\")['Intensity_MeanIntensity_OrigCellWall'].describe()"
   ]
  },
  {
   "cell_type": "markdown",
   "metadata": {},
   "source": [
    "Significance testing for intensity differences. Conclusion: these intensities are mostly different (although see below that intensity changes don't seem to correlat with changes in major axis length)."
   ]
  },
  {
   "cell_type": "code",
   "execution_count": null,
   "metadata": {},
   "outputs": [],
   "source": [
    "mannwhitneyu_test(psa_df, 'Metadata_drug', 'DMSO', 'Intensity_MeanIntensity_OrigCellWall')"
   ]
  },
  {
   "cell_type": "markdown",
   "metadata": {},
   "source": [
    "## Major axis length relative to mean intensity of objects\n",
    "\n",
    "I wanted to test if there was a correlation between the mean intensity and the major axis length, to see if lower mean intensity was correlated with shorter major axis length. A regression line in black has been added to overlay the data.\n",
    "\n",
    "We don't see a significant correlation here, which suggests to me that the dim objects are not significantly affecting our segmentation. \n"
   ]
  },
  {
   "cell_type": "code",
   "execution_count": null,
   "metadata": {},
   "outputs": [],
   "source": [
    "ax = sns.lmplot(x=\"Intensity_MeanIntensity_OrigCellWall\", \n",
    "                y=\"AreaShape_MajorAxisLength\", \n",
    "                data=psa_df, \n",
    "                hue=\"Metadata_drug\", \n",
    "                col=\"Metadata_drug\", \n",
    "                col_order=['DMSO', 'A22', 'Ami', 'cefsul', 'Cip', 'Mec', 'Pip', '1401'],\n",
    "                line_kws={'color': 'black'}, \n",
    "                col_wrap=2, \n",
    "                height=3)\n",
    "\n",
    "ax.set(xlim=(0,1))\n",
    "\n",
    "ax.savefig('areabyintensity.png', bbox_inches = 'tight', dpi = 300, format = 'png', transparent = True)\n"
   ]
  },
  {
   "cell_type": "markdown",
   "metadata": {},
   "source": [
    "## Summary\n",
    "\n",
    "In sum, we have detected several morphologies in the various drug treatments relative to controls:\n",
    "- Long and larger (cefsul, pip)\n",
    "- More round but same area (A22)\n",
    "- More round and smaller area (1401, Mec)\n",
    "\n",
    "We look forward to discussing next steps soon!"
   ]
  },
  {
   "cell_type": "code",
   "execution_count": null,
   "metadata": {},
   "outputs": [],
   "source": []
  }
 ],
 "metadata": {
  "kernelspec": {
   "display_name": "Python 3",
   "language": "python",
   "name": "python3"
  },
  "language_info": {
   "codemirror_mode": {
    "name": "ipython",
    "version": 3
   },
   "file_extension": ".py",
   "mimetype": "text/x-python",
   "name": "python",
   "nbconvert_exporter": "python",
   "pygments_lexer": "ipython3",
   "version": "3.9.2"
  }
 },
 "nbformat": 4,
 "nbformat_minor": 4
}
