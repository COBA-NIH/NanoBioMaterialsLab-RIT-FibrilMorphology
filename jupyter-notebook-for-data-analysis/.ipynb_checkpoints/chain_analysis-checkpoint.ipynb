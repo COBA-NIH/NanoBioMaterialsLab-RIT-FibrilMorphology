{
 "cells": [
  {
   "cell_type": "markdown",
   "metadata": {},
   "source": [
    "# Overview\n",
    "\n",
    "This notebook investigates the morphology of different genetic strains of *Pseudomonas* bacteria (7a25c, 9b1, and tolBKD) relative to a control strain (PA14). The bacteria were treated with varying amounts of arabinose, which acts as an activator of gene expression (so bacteria treated w/ high arabinose - 0.5% - should activate gene expression and appear closest to WT). \n",
    "\n",
    "A chaining phenotype was noted by eye and a CellProfiler Analyst classifier was trained to classify each object of bacteria as either a single bacterium, a clump of bacteria (overlapping bacteria that are randomly oriented), and chains of bacteria (end-to-end bacteria in a line). "
   ]
  },
  {
   "cell_type": "code",
   "execution_count": 1,
   "metadata": {},
   "outputs": [],
   "source": [
    "# import packages for analysis\n",
    "\n",
    "import sqlite3\n",
    "import pandas as pd\n",
    "import seaborn as sns\n",
    "from scipy.stats import mannwhitneyu \n"
   ]
  },
  {
   "cell_type": "code",
   "execution_count": 2,
   "metadata": {},
   "outputs": [],
   "source": [
    "# function for significance testing \n",
    "\n",
    "def mannwhitneyu_test(df, grouping_category, control, metric_to_test):\n",
    "    \"\"\" Takes a dataframe in the long format, \n",
    "    a grouping category that defines how to divide the data, \n",
    "    the control for the grouping category and \n",
    "    the measurement contained in a separate df column (e.g. area)\n",
    "    to test against different grouping categories\n",
    "    \n",
    "    Computes the Mann Whitney U test and prints the results\n",
    "    Adjusts for significance w/ a Bonferroni correction for the p-value\n",
    "    \"\"\"\n",
    "    \n",
    "    df_grouped = df.groupby(grouping_category)\n",
    "\n",
    "    control_metric = df.loc[df[grouping_category] == control][metric_to_test]\n",
    "\n",
    "    mean_control = round(control_metric.mean(), 2)\n",
    "    \n",
    "    for drug, drug_df in df_grouped:\n",
    "        if drug != control:\n",
    "            drug_metric = drug_df[metric_to_test]\n",
    "            \n",
    "            mean_drug = round(drug_metric.mean(), 2)\n",
    "            \n",
    "            mannwhitney_result = mannwhitneyu(control_metric, drug_metric, alternative='two-sided')[1]\n",
    "            \n",
    "            print('The mean for {control} is {mean_control} compared to {mean_drug} for {drug}'.format(\n",
    "                control=control, mean_control = mean_control, mean_drug = mean_drug, drug = drug               \n",
    "            ))\n",
    "            \n",
    "            print('The p-value for {drug} compared to {control} is {p_value}'.format(\n",
    "                drug = drug, control = control, p_value = str(mannwhitney_result)))\n",
    "\n",
    "            if mannwhitney_result < 0.05 / (len(df_grouped)-1):\n",
    "                print(\"Significant \\n\")\n",
    "            if mannwhitney_result >= 0.05 / (len(df_grouped)-1):\n",
    "                print(\"Not significant \\n\")\n",
    "    \n",
    "    return None\n"
   ]
  },
  {
   "cell_type": "markdown",
   "metadata": {},
   "source": [
    "## Import data and merge \n",
    "\n",
    "**Goal**: create one main dataframe with image metadata, object measurements, and object classification"
   ]
  },
  {
   "cell_type": "code",
   "execution_count": 3,
   "metadata": {},
   "outputs": [],
   "source": [
    "# open a database connection\n",
    "conn = sqlite3.connect('Pseudomonas.db')\n",
    "\n",
    "# import data from the database\n",
    "classified_df = pd.read_sql_query(\"SELECT * FROM Strain1_chain\", conn)\n",
    "objects_df = pd.read_sql_query(\"SELECT * FROM Strain1_Per_Object\", conn)\n",
    "images_df = pd.read_sql_query(\"SELECT * FROM Strain1_Per_Image\", conn)\n",
    "\n",
    "# close the connection\n",
    "conn.close()\n",
    "\n",
    "# merge the dataframes\n",
    "classfied_objects_df = objects_df.merge(classified_df, on=['ImageNumber', 'ObjectNumber'])\n",
    "pseudo_df = classfied_objects_df.merge(images_df, on='ImageNumber')\n",
    "\n",
    "# make a column that combines the genetic strain with arabinose percentage\n",
    "pseudo_df['strain-percentage'] = pseudo_df['Image_Metadata_strain'] + '-' + pseudo_df['Image_Metadata_percentage']\n",
    "images_df['strain-percentage'] = images_df['Image_Metadata_strain'] + '-' + images_df['Image_Metadata_percentage']"
   ]
  },
  {
   "cell_type": "code",
   "execution_count": 4,
   "metadata": {},
   "outputs": [],
   "source": [
    "# Save a CSV file with the image data, object data, and object type to a csv file\n",
    "# Saves to the same folder as this notebook\n",
    "# Has a column \"class\" with the text for the object type\n",
    "\n",
    "pseudo_df.to_csv(\"PseudomonasChainData.csv\")\n"
   ]
  },
  {
   "cell_type": "markdown",
   "metadata": {},
   "source": [
    "## Do genetic strains have more chaining than WT?\n",
    "\n",
    "**Goal**: test if images of genetic strains in 0% arabinose have a higher % of chaining bacteria than controls.\n",
    "\n",
    "The % chaining metric is the percent of bacteria contained within chains relative to the total # of bacteria on a per image basis. \n"
   ]
  },
  {
   "cell_type": "code",
   "execution_count": 5,
   "metadata": {},
   "outputs": [],
   "source": [
    "# calculate the % strain, % clumped, and % single bacteria relative to total bacteria per image\n",
    "\n",
    "# group by image and calculate % single, % chain, and % clump by image\n",
    "\n",
    "pseudo_image_groups = pseudo_df.groupby([\"ImageNumber\"])\n",
    "\n",
    "percentage_dict = {}\n",
    "\n",
    "for imageNumber, pseudo_data_df in pseudo_image_groups:\n",
    "    number_chains = pseudo_data_df.loc[pseudo_data_df['class'] == 'chain']['FilteredClumpyCells_Children_FilteredCells_Count'].sum()\n",
    "    number_clumps = pseudo_data_df.loc[pseudo_data_df['class'] == 'clump']['FilteredClumpyCells_Children_FilteredCells_Count'].sum()\n",
    "    number_singles =  pseudo_data_df.loc[pseudo_data_df['class'] == 'single']['FilteredClumpyCells_Children_FilteredCells_Count'].sum()\n",
    "    total = pseudo_data_df['FilteredClumpyCells_Children_FilteredCells_Count'].sum()\n",
    "\n",
    "    percent_chain = number_chains / total * 100\n",
    "    percent_clump = number_clumps / total * 100\n",
    "    percent_single = number_singles / total * 100\n",
    "\n",
    "    percentage_dict[imageNumber] = percent_chain\n",
    "    \n",
    "# add to images dataframe\n",
    "images_df['percent_chain'] = images_df['ImageNumber'].map(percentage_dict)\n"
   ]
  },
  {
   "cell_type": "code",
   "execution_count": 6,
   "metadata": {},
   "outputs": [
    {
     "data": {
      "text/plain": [
       "[Text(0, 0, 'PA14-0'),\n",
       " Text(1, 0, '7a25c-0'),\n",
       " Text(2, 0, '9b1-0'),\n",
       " Text(3, 0, 'tolBKD-0'),\n",
       " Text(4, 0, 'PA14-0.5'),\n",
       " Text(5, 0, '7a25c-0.5'),\n",
       " Text(6, 0, '9b1-0.5'),\n",
       " Text(7, 0, 'tolBKD-0.5')]"
      ]
     },
     "execution_count": 6,
     "metadata": {},
     "output_type": "execute_result"
    },
    {
     "data": {
      "image/png": "[encoded data removed]",
      "text/plain": [
       "<Figure size 432x288 with 1 Axes>"
      ]
     },
     "metadata": {
      "needs_background": "light"
     },
     "output_type": "display_data"
    }
   ],
   "source": [
    "# limit the analysis to 0% and 0.5% arabinose since those are the only percentages with all genetic strains\n",
    "pseudo_df_zeropointfive = images_df.loc[images_df['Image_Metadata_percentage'].isin(['0', '0.5'])]\n",
    "\n",
    "ax = sns.boxenplot(x=\"strain-percentage\", \n",
    "                    y=\"percent_chain\",\n",
    "                    data=pseudo_df_zeropointfive,\n",
    "                    order = ['PA14-0', '7a25c-0', '9b1-0', 'tolBKD-0', \n",
    "                             'PA14-0.5', '7a25c-0.5',  '9b1-0.5', 'tolBKD-0.5'])\n",
    "\n",
    "ax.set_xticklabels(ax.get_xticklabels(), rotation=90)\n"
   ]
  },
  {
   "cell_type": "markdown",
   "metadata": {},
   "source": [
    "##### Percent chaining numbers:\n",
    "Note the low n - only 7-10 images per condition. The PA-14 strain % chaining bacteria does not change significantly between conditions."
   ]
  },
  {
   "cell_type": "code",
   "execution_count": 7,
   "metadata": {},
   "outputs": [
    {
     "data": {
      "text/html": [
       "<div>\n",
       "<style scoped>\n",
       "    .dataframe tbody tr th:only-of-type {\n",
       "        vertical-align: middle;\n",
       "    }\n",
       "\n",
       "    .dataframe tbody tr th {\n",
       "        vertical-align: top;\n",
       "    }\n",
       "\n",
       "    .dataframe thead th {\n",
       "        text-align: right;\n",
       "    }\n",
       "</style>\n",
       "<table border=\"1\" class=\"dataframe\">\n",
       "  <thead>\n",
       "    <tr style=\"text-align: right;\">\n",
       "      <th></th>\n",
       "      <th>count</th>\n",
       "      <th>mean</th>\n",
       "      <th>std</th>\n",
       "      <th>min</th>\n",
       "      <th>25%</th>\n",
       "      <th>50%</th>\n",
       "      <th>75%</th>\n",
       "      <th>max</th>\n",
       "    </tr>\n",
       "    <tr>\n",
       "      <th>strain-percentage</th>\n",
       "      <th></th>\n",
       "      <th></th>\n",
       "      <th></th>\n",
       "      <th></th>\n",
       "      <th></th>\n",
       "      <th></th>\n",
       "      <th></th>\n",
       "      <th></th>\n",
       "    </tr>\n",
       "  </thead>\n",
       "  <tbody>\n",
       "    <tr>\n",
       "      <th>7a25c-0</th>\n",
       "      <td>9.0</td>\n",
       "      <td>8.467735</td>\n",
       "      <td>5.378841</td>\n",
       "      <td>0.0</td>\n",
       "      <td>4.109589</td>\n",
       "      <td>8.045977</td>\n",
       "      <td>11.904762</td>\n",
       "      <td>15.789474</td>\n",
       "    </tr>\n",
       "    <tr>\n",
       "      <th>7a25c-0.5</th>\n",
       "      <td>9.0</td>\n",
       "      <td>2.328272</td>\n",
       "      <td>2.746909</td>\n",
       "      <td>0.0</td>\n",
       "      <td>0.000000</td>\n",
       "      <td>2.500000</td>\n",
       "      <td>3.092784</td>\n",
       "      <td>7.975460</td>\n",
       "    </tr>\n",
       "    <tr>\n",
       "      <th>9b1-0</th>\n",
       "      <td>9.0</td>\n",
       "      <td>7.260148</td>\n",
       "      <td>6.579774</td>\n",
       "      <td>0.0</td>\n",
       "      <td>3.191489</td>\n",
       "      <td>7.228916</td>\n",
       "      <td>10.416667</td>\n",
       "      <td>20.000000</td>\n",
       "    </tr>\n",
       "    <tr>\n",
       "      <th>9b1-0.5</th>\n",
       "      <td>7.0</td>\n",
       "      <td>1.932262</td>\n",
       "      <td>3.307249</td>\n",
       "      <td>0.0</td>\n",
       "      <td>0.000000</td>\n",
       "      <td>0.000000</td>\n",
       "      <td>3.191489</td>\n",
       "      <td>7.142857</td>\n",
       "    </tr>\n",
       "    <tr>\n",
       "      <th>PA14-0</th>\n",
       "      <td>7.0</td>\n",
       "      <td>2.523129</td>\n",
       "      <td>4.396813</td>\n",
       "      <td>0.0</td>\n",
       "      <td>0.000000</td>\n",
       "      <td>0.000000</td>\n",
       "      <td>3.658537</td>\n",
       "      <td>10.344828</td>\n",
       "    </tr>\n",
       "    <tr>\n",
       "      <th>PA14-0.5</th>\n",
       "      <td>10.0</td>\n",
       "      <td>4.021632</td>\n",
       "      <td>5.943433</td>\n",
       "      <td>0.0</td>\n",
       "      <td>0.000000</td>\n",
       "      <td>1.315789</td>\n",
       "      <td>5.958686</td>\n",
       "      <td>18.750000</td>\n",
       "    </tr>\n",
       "    <tr>\n",
       "      <th>tolBKD-0</th>\n",
       "      <td>9.0</td>\n",
       "      <td>11.415595</td>\n",
       "      <td>5.824074</td>\n",
       "      <td>5.0</td>\n",
       "      <td>5.660377</td>\n",
       "      <td>10.526316</td>\n",
       "      <td>15.384615</td>\n",
       "      <td>20.967742</td>\n",
       "    </tr>\n",
       "    <tr>\n",
       "      <th>tolBKD-0.5</th>\n",
       "      <td>7.0</td>\n",
       "      <td>3.709197</td>\n",
       "      <td>6.043182</td>\n",
       "      <td>0.0</td>\n",
       "      <td>0.000000</td>\n",
       "      <td>1.923077</td>\n",
       "      <td>3.569946</td>\n",
       "      <td>16.901408</td>\n",
       "    </tr>\n",
       "  </tbody>\n",
       "</table>\n",
       "</div>"
      ],
      "text/plain": [
       "                   count       mean       std  min       25%        50%  \\\n",
       "strain-percentage                                                         \n",
       "7a25c-0              9.0   8.467735  5.378841  0.0  4.109589   8.045977   \n",
       "7a25c-0.5            9.0   2.328272  2.746909  0.0  0.000000   2.500000   \n",
       "9b1-0                9.0   7.260148  6.579774  0.0  3.191489   7.228916   \n",
       "9b1-0.5              7.0   1.932262  3.307249  0.0  0.000000   0.000000   \n",
       "PA14-0               7.0   2.523129  4.396813  0.0  0.000000   0.000000   \n",
       "PA14-0.5            10.0   4.021632  5.943433  0.0  0.000000   1.315789   \n",
       "tolBKD-0             9.0  11.415595  5.824074  5.0  5.660377  10.526316   \n",
       "tolBKD-0.5           7.0   3.709197  6.043182  0.0  0.000000   1.923077   \n",
       "\n",
       "                         75%        max  \n",
       "strain-percentage                        \n",
       "7a25c-0            11.904762  15.789474  \n",
       "7a25c-0.5           3.092784   7.975460  \n",
       "9b1-0              10.416667  20.000000  \n",
       "9b1-0.5             3.191489   7.142857  \n",
       "PA14-0              3.658537  10.344828  \n",
       "PA14-0.5            5.958686  18.750000  \n",
       "tolBKD-0           15.384615  20.967742  \n",
       "tolBKD-0.5          3.569946  16.901408  "
      ]
     },
     "execution_count": 7,
     "metadata": {},
     "output_type": "execute_result"
    }
   ],
   "source": [
    "pseudo_df_zeropointfive.groupby('strain-percentage')['percent_chain'].describe()"
   ]
  },
  {
   "cell_type": "code",
   "execution_count": 8,
   "metadata": {},
   "outputs": [
    {
     "name": "stdout",
     "output_type": "stream",
     "text": [
      "The mean for PA14-0 is 2.52 compared to 8.47 for 7a25c-0\n",
      "The p-value for 7a25c-0 compared to PA14-0 is 0.034059904272364196\n",
      "Not significant \n",
      "\n",
      "The mean for PA14-0 is 2.52 compared to 2.33 for 7a25c-0.5\n",
      "The p-value for 7a25c-0.5 compared to PA14-0 is 0.6408079306470044\n",
      "Not significant \n",
      "\n",
      "The mean for PA14-0 is 2.52 compared to 7.26 for 9b1-0\n",
      "The p-value for 9b1-0 compared to PA14-0 is 0.09742168927634334\n",
      "Not significant \n",
      "\n",
      "The mean for PA14-0 is 2.52 compared to 1.93 for 9b1-0.5\n",
      "The p-value for 9b1-0.5 compared to PA14-0 is 0.8102729826841362\n",
      "Not significant \n",
      "\n",
      "The mean for PA14-0 is 2.52 compared to 4.02 for PA14-0.5\n",
      "The p-value for PA14-0.5 compared to PA14-0 is 0.5848608260978172\n",
      "Not significant \n",
      "\n",
      "The mean for PA14-0 is 2.52 compared to 11.42 for tolBKD-0\n",
      "The p-value for tolBKD-0 compared to PA14-0 is 0.00991919679896498\n",
      "Not significant \n",
      "\n",
      "The mean for PA14-0 is 2.52 compared to 3.71 for tolBKD-0.5\n",
      "The p-value for tolBKD-0.5 compared to PA14-0 is 0.5242788570896024\n",
      "Not significant \n",
      "\n"
     ]
    }
   ],
   "source": [
    "# significance testing for % chain / image\n",
    "\n",
    "mannwhitneyu_test(pseudo_df_zeropointfive, 'strain-percentage', 'PA14-0', 'percent_chain')\n"
   ]
  },
  {
   "cell_type": "markdown",
   "metadata": {},
   "source": [
    "### Conclusions:\n",
    "\n",
    "We see a trend toward an increased % of chained bacteria detected in an image for the genetic strains w/ 0% arabinose (for example, 17.9% of bacteria are chains in tolBkd w/ 0% arabinose compared to 5.9% in tolBkd w/ 0.5% arabinose). Only one of the findings is significant for the images that we have, but we are likely statistically underpowered to detect a two-fold change.\n"
   ]
  },
  {
   "cell_type": "markdown",
   "metadata": {},
   "source": [
    "## Does morphology of single bacteria change?\n",
    "\n",
    "We'll take advantage of our classification system to analyze the morphology of bacteria that were classified as single bacteria by CellProfiler Analyst. We'll focus on area and eccentricity.\n"
   ]
  },
  {
   "cell_type": "code",
   "execution_count": 9,
   "metadata": {},
   "outputs": [],
   "source": [
    "pseudo_df_zeropointfive = pseudo_df.loc[pseudo_df['Image_Metadata_percentage'].isin(['0', '0.5'])]\n",
    "single_zeropointfive_df = pseudo_df_zeropointfive.loc[pseudo_df_zeropointfive['class'] == 'single']\n"
   ]
  },
  {
   "cell_type": "code",
   "execution_count": 10,
   "metadata": {},
   "outputs": [
    {
     "data": {
      "text/plain": [
       "[Text(0, 0, 'PA14-0'),\n",
       " Text(1, 0, '7a25c-0'),\n",
       " Text(2, 0, '9b1-0'),\n",
       " Text(3, 0, 'tolBKD-0'),\n",
       " Text(4, 0, 'PA14-0.5'),\n",
       " Text(5, 0, '7a25c-0.5'),\n",
       " Text(6, 0, '9b1-0.5'),\n",
       " Text(7, 0, 'tolBKD-0.5')]"
      ]
     },
     "execution_count": 10,
     "metadata": {},
     "output_type": "execute_result"
    },
    {
     "data": {
      "image/png": "[encoded data removed]",
      "text/plain": [
       "<Figure size 432x288 with 1 Axes>"
      ]
     },
     "metadata": {
      "needs_background": "light"
     },
     "output_type": "display_data"
    }
   ],
   "source": [
    "ax = sns.boxenplot(x=\"strain-percentage\", \n",
    "                    y=\"FilteredClumpyCells_AreaShape_Area\",\n",
    "                    data=single_zeropointfive_df,\n",
    "                    order = ['PA14-0', '7a25c-0', '9b1-0', 'tolBKD-0', 'PA14-0.5', '7a25c-0.5',  '9b1-0.5', 'tolBKD-0.5'])\n",
    "\n",
    "ax.set_xticklabels(ax.get_xticklabels(), rotation=90)\n"
   ]
  },
  {
   "cell_type": "markdown",
   "metadata": {},
   "source": [
    "##### Underlying numbers for area of single bacteria:"
   ]
  },
  {
   "cell_type": "code",
   "execution_count": 11,
   "metadata": {},
   "outputs": [
    {
     "data": {
      "text/html": [
       "<div>\n",
       "<style scoped>\n",
       "    .dataframe tbody tr th:only-of-type {\n",
       "        vertical-align: middle;\n",
       "    }\n",
       "\n",
       "    .dataframe tbody tr th {\n",
       "        vertical-align: top;\n",
       "    }\n",
       "\n",
       "    .dataframe thead th {\n",
       "        text-align: right;\n",
       "    }\n",
       "</style>\n",
       "<table border=\"1\" class=\"dataframe\">\n",
       "  <thead>\n",
       "    <tr style=\"text-align: right;\">\n",
       "      <th></th>\n",
       "      <th>count</th>\n",
       "      <th>mean</th>\n",
       "      <th>std</th>\n",
       "      <th>min</th>\n",
       "      <th>25%</th>\n",
       "      <th>50%</th>\n",
       "      <th>75%</th>\n",
       "      <th>max</th>\n",
       "    </tr>\n",
       "    <tr>\n",
       "      <th>strain-percentage</th>\n",
       "      <th></th>\n",
       "      <th></th>\n",
       "      <th></th>\n",
       "      <th></th>\n",
       "      <th></th>\n",
       "      <th></th>\n",
       "      <th></th>\n",
       "      <th></th>\n",
       "    </tr>\n",
       "  </thead>\n",
       "  <tbody>\n",
       "    <tr>\n",
       "      <th>7a25c-0</th>\n",
       "      <td>263.0</td>\n",
       "      <td>464.596958</td>\n",
       "      <td>168.446463</td>\n",
       "      <td>164.0</td>\n",
       "      <td>333.50</td>\n",
       "      <td>442.0</td>\n",
       "      <td>582.00</td>\n",
       "      <td>1089.0</td>\n",
       "    </tr>\n",
       "    <tr>\n",
       "      <th>7a25c-0.5</th>\n",
       "      <td>401.0</td>\n",
       "      <td>421.798005</td>\n",
       "      <td>176.538357</td>\n",
       "      <td>151.0</td>\n",
       "      <td>330.00</td>\n",
       "      <td>398.0</td>\n",
       "      <td>491.00</td>\n",
       "      <td>2415.0</td>\n",
       "    </tr>\n",
       "    <tr>\n",
       "      <th>9b1-0</th>\n",
       "      <td>245.0</td>\n",
       "      <td>484.967347</td>\n",
       "      <td>182.882339</td>\n",
       "      <td>161.0</td>\n",
       "      <td>374.00</td>\n",
       "      <td>456.0</td>\n",
       "      <td>574.00</td>\n",
       "      <td>1787.0</td>\n",
       "    </tr>\n",
       "    <tr>\n",
       "      <th>9b1-0.5</th>\n",
       "      <td>261.0</td>\n",
       "      <td>452.965517</td>\n",
       "      <td>140.444441</td>\n",
       "      <td>162.0</td>\n",
       "      <td>369.00</td>\n",
       "      <td>445.0</td>\n",
       "      <td>517.00</td>\n",
       "      <td>1534.0</td>\n",
       "    </tr>\n",
       "    <tr>\n",
       "      <th>PA14-0</th>\n",
       "      <td>168.0</td>\n",
       "      <td>540.779762</td>\n",
       "      <td>174.551965</td>\n",
       "      <td>151.0</td>\n",
       "      <td>437.25</td>\n",
       "      <td>528.5</td>\n",
       "      <td>645.25</td>\n",
       "      <td>1075.0</td>\n",
       "    </tr>\n",
       "    <tr>\n",
       "      <th>PA14-0.5</th>\n",
       "      <td>417.0</td>\n",
       "      <td>540.292566</td>\n",
       "      <td>187.629163</td>\n",
       "      <td>152.0</td>\n",
       "      <td>432.00</td>\n",
       "      <td>523.0</td>\n",
       "      <td>629.00</td>\n",
       "      <td>1591.0</td>\n",
       "    </tr>\n",
       "    <tr>\n",
       "      <th>tolBKD-0</th>\n",
       "      <td>201.0</td>\n",
       "      <td>438.522388</td>\n",
       "      <td>171.905325</td>\n",
       "      <td>150.0</td>\n",
       "      <td>316.00</td>\n",
       "      <td>428.0</td>\n",
       "      <td>528.00</td>\n",
       "      <td>1143.0</td>\n",
       "    </tr>\n",
       "    <tr>\n",
       "      <th>tolBKD-0.5</th>\n",
       "      <td>322.0</td>\n",
       "      <td>494.068323</td>\n",
       "      <td>202.407246</td>\n",
       "      <td>153.0</td>\n",
       "      <td>350.25</td>\n",
       "      <td>467.5</td>\n",
       "      <td>574.75</td>\n",
       "      <td>1498.0</td>\n",
       "    </tr>\n",
       "  </tbody>\n",
       "</table>\n",
       "</div>"
      ],
      "text/plain": [
       "                   count        mean         std    min     25%    50%  \\\n",
       "strain-percentage                                                        \n",
       "7a25c-0            263.0  464.596958  168.446463  164.0  333.50  442.0   \n",
       "7a25c-0.5          401.0  421.798005  176.538357  151.0  330.00  398.0   \n",
       "9b1-0              245.0  484.967347  182.882339  161.0  374.00  456.0   \n",
       "9b1-0.5            261.0  452.965517  140.444441  162.0  369.00  445.0   \n",
       "PA14-0             168.0  540.779762  174.551965  151.0  437.25  528.5   \n",
       "PA14-0.5           417.0  540.292566  187.629163  152.0  432.00  523.0   \n",
       "tolBKD-0           201.0  438.522388  171.905325  150.0  316.00  428.0   \n",
       "tolBKD-0.5         322.0  494.068323  202.407246  153.0  350.25  467.5   \n",
       "\n",
       "                      75%     max  \n",
       "strain-percentage                  \n",
       "7a25c-0            582.00  1089.0  \n",
       "7a25c-0.5          491.00  2415.0  \n",
       "9b1-0              574.00  1787.0  \n",
       "9b1-0.5            517.00  1534.0  \n",
       "PA14-0             645.25  1075.0  \n",
       "PA14-0.5           629.00  1591.0  \n",
       "tolBKD-0           528.00  1143.0  \n",
       "tolBKD-0.5         574.75  1498.0  "
      ]
     },
     "execution_count": 11,
     "metadata": {},
     "output_type": "execute_result"
    }
   ],
   "source": [
    "single_zeropointfive_df.groupby('strain-percentage')['FilteredClumpyCells_AreaShape_Area'].describe()"
   ]
  },
  {
   "cell_type": "code",
   "execution_count": 12,
   "metadata": {},
   "outputs": [
    {
     "name": "stdout",
     "output_type": "stream",
     "text": [
      "The mean for PA14-0 is 540.78 compared to 464.6 for 7a25c-0\n",
      "The p-value for 7a25c-0 compared to PA14-0 is 3.6750971572238415e-06\n",
      "Significant \n",
      "\n",
      "The mean for PA14-0 is 540.78 compared to 484.97 for 9b1-0\n",
      "The p-value for 9b1-0 compared to PA14-0 is 0.00016023996902558905\n",
      "Significant \n",
      "\n",
      "The mean for PA14-0 is 540.78 compared to 438.52 for tolBKD-0\n",
      "The p-value for tolBKD-0 compared to PA14-0 is 1.284445522924404e-08\n",
      "Significant \n",
      "\n"
     ]
    }
   ],
   "source": [
    "# create dataframes for significance testing\n",
    "single_zero_df = single_zeropointfive_df.loc[single_zeropointfive_df['Image_Metadata_percentage'] == '0']\n",
    "single_pointfive_df = single_zeropointfive_df.loc[single_zeropointfive_df['Image_Metadata_percentage'] == '0.5']\n",
    "\n",
    "# signficance testing for 0.0% arabinose\n",
    "mannwhitneyu_test(single_zero_df, 'strain-percentage', 'PA14-0', 'FilteredClumpyCells_AreaShape_Area')\n"
   ]
  },
  {
   "cell_type": "code",
   "execution_count": 13,
   "metadata": {},
   "outputs": [
    {
     "name": "stdout",
     "output_type": "stream",
     "text": [
      "The mean for PA14-0.5 is 540.29 compared to 421.8 for 7a25c-0.5\n",
      "The p-value for 7a25c-0.5 compared to PA14-0.5 is 2.120681129692849e-28\n",
      "Significant \n",
      "\n",
      "The mean for PA14-0.5 is 540.29 compared to 452.97 for 9b1-0.5\n",
      "The p-value for 9b1-0.5 compared to PA14-0.5 is 1.3725355607474448e-12\n",
      "Significant \n",
      "\n",
      "The mean for PA14-0.5 is 540.29 compared to 494.07 for tolBKD-0.5\n",
      "The p-value for tolBKD-0.5 compared to PA14-0.5 is 1.950240619625e-05\n",
      "Significant \n",
      "\n"
     ]
    }
   ],
   "source": [
    "# signficance testing for 0.5% arabinose\n",
    "mannwhitneyu_test(single_pointfive_df, 'strain-percentage', 'PA14-0.5', 'FilteredClumpyCells_AreaShape_Area')\n"
   ]
  },
  {
   "cell_type": "markdown",
   "metadata": {},
   "source": [
    "### Testing if eccentricity changes"
   ]
  },
  {
   "cell_type": "code",
   "execution_count": 14,
   "metadata": {},
   "outputs": [
    {
     "data": {
      "text/plain": [
       "[Text(0, 0, 'PA14-0'),\n",
       " Text(1, 0, '7a25c-0'),\n",
       " Text(2, 0, '9b1-0'),\n",
       " Text(3, 0, 'tolBKD-0'),\n",
       " Text(4, 0, 'PA14-0.5'),\n",
       " Text(5, 0, '7a25c-0.5'),\n",
       " Text(6, 0, '9b1-0.5'),\n",
       " Text(7, 0, 'tolBKD-0.5')]"
      ]
     },
     "execution_count": 14,
     "metadata": {},
     "output_type": "execute_result"
    },
    {
     "data": {
      "image/png": "[encoded data removed]",
      "text/plain": [
       "<Figure size 432x288 with 1 Axes>"
      ]
     },
     "metadata": {
      "needs_background": "light"
     },
     "output_type": "display_data"
    }
   ],
   "source": [
    "ax = sns.boxenplot(x=\"strain-percentage\", \n",
    "                    y=\"FilteredClumpyCells_AreaShape_Eccentricity\",\n",
    "                    data=single_zeropointfive_df,\n",
    "                    order = ['PA14-0', '7a25c-0', '9b1-0', 'tolBKD-0',\n",
    "                             'PA14-0.5', '7a25c-0.5',  '9b1-0.5', 'tolBKD-0.5'])\n",
    "\n",
    "ax.set_xticklabels(ax.get_xticklabels(), rotation=90)\n"
   ]
  },
  {
   "cell_type": "markdown",
   "metadata": {},
   "source": [
    "##### Underlying numbers for eccentricity of single bacteria:"
   ]
  },
  {
   "cell_type": "code",
   "execution_count": 15,
   "metadata": {},
   "outputs": [
    {
     "data": {
      "text/html": [
       "<div>\n",
       "<style scoped>\n",
       "    .dataframe tbody tr th:only-of-type {\n",
       "        vertical-align: middle;\n",
       "    }\n",
       "\n",
       "    .dataframe tbody tr th {\n",
       "        vertical-align: top;\n",
       "    }\n",
       "\n",
       "    .dataframe thead th {\n",
       "        text-align: right;\n",
       "    }\n",
       "</style>\n",
       "<table border=\"1\" class=\"dataframe\">\n",
       "  <thead>\n",
       "    <tr style=\"text-align: right;\">\n",
       "      <th></th>\n",
       "      <th>count</th>\n",
       "      <th>mean</th>\n",
       "      <th>std</th>\n",
       "      <th>min</th>\n",
       "      <th>25%</th>\n",
       "      <th>50%</th>\n",
       "      <th>75%</th>\n",
       "      <th>max</th>\n",
       "    </tr>\n",
       "    <tr>\n",
       "      <th>strain-percentage</th>\n",
       "      <th></th>\n",
       "      <th></th>\n",
       "      <th></th>\n",
       "      <th></th>\n",
       "      <th></th>\n",
       "      <th></th>\n",
       "      <th></th>\n",
       "      <th></th>\n",
       "    </tr>\n",
       "  </thead>\n",
       "  <tbody>\n",
       "    <tr>\n",
       "      <th>7a25c-0</th>\n",
       "      <td>263.0</td>\n",
       "      <td>0.770902</td>\n",
       "      <td>0.174498</td>\n",
       "      <td>0.169149</td>\n",
       "      <td>0.673982</td>\n",
       "      <td>0.829174</td>\n",
       "      <td>0.900009</td>\n",
       "      <td>0.985705</td>\n",
       "    </tr>\n",
       "    <tr>\n",
       "      <th>7a25c-0.5</th>\n",
       "      <td>401.0</td>\n",
       "      <td>0.785290</td>\n",
       "      <td>0.127071</td>\n",
       "      <td>0.223648</td>\n",
       "      <td>0.723442</td>\n",
       "      <td>0.820664</td>\n",
       "      <td>0.872818</td>\n",
       "      <td>0.963114</td>\n",
       "    </tr>\n",
       "    <tr>\n",
       "      <th>9b1-0</th>\n",
       "      <td>245.0</td>\n",
       "      <td>0.720229</td>\n",
       "      <td>0.156492</td>\n",
       "      <td>0.151063</td>\n",
       "      <td>0.644051</td>\n",
       "      <td>0.745864</td>\n",
       "      <td>0.834321</td>\n",
       "      <td>0.961780</td>\n",
       "    </tr>\n",
       "    <tr>\n",
       "      <th>9b1-0.5</th>\n",
       "      <td>261.0</td>\n",
       "      <td>0.735377</td>\n",
       "      <td>0.143831</td>\n",
       "      <td>0.154518</td>\n",
       "      <td>0.677418</td>\n",
       "      <td>0.770831</td>\n",
       "      <td>0.838132</td>\n",
       "      <td>0.975701</td>\n",
       "    </tr>\n",
       "    <tr>\n",
       "      <th>PA14-0</th>\n",
       "      <td>168.0</td>\n",
       "      <td>0.837243</td>\n",
       "      <td>0.092928</td>\n",
       "      <td>0.385988</td>\n",
       "      <td>0.802553</td>\n",
       "      <td>0.857354</td>\n",
       "      <td>0.901845</td>\n",
       "      <td>0.965954</td>\n",
       "    </tr>\n",
       "    <tr>\n",
       "      <th>PA14-0.5</th>\n",
       "      <td>417.0</td>\n",
       "      <td>0.861800</td>\n",
       "      <td>0.100657</td>\n",
       "      <td>0.127098</td>\n",
       "      <td>0.839724</td>\n",
       "      <td>0.886001</td>\n",
       "      <td>0.923818</td>\n",
       "      <td>0.976873</td>\n",
       "    </tr>\n",
       "    <tr>\n",
       "      <th>tolBKD-0</th>\n",
       "      <td>201.0</td>\n",
       "      <td>0.794446</td>\n",
       "      <td>0.143408</td>\n",
       "      <td>0.252658</td>\n",
       "      <td>0.738070</td>\n",
       "      <td>0.834386</td>\n",
       "      <td>0.895236</td>\n",
       "      <td>0.967490</td>\n",
       "    </tr>\n",
       "    <tr>\n",
       "      <th>tolBKD-0.5</th>\n",
       "      <td>322.0</td>\n",
       "      <td>0.841810</td>\n",
       "      <td>0.107567</td>\n",
       "      <td>0.297704</td>\n",
       "      <td>0.798816</td>\n",
       "      <td>0.870132</td>\n",
       "      <td>0.913781</td>\n",
       "      <td>0.977694</td>\n",
       "    </tr>\n",
       "  </tbody>\n",
       "</table>\n",
       "</div>"
      ],
      "text/plain": [
       "                   count      mean       std       min       25%       50%  \\\n",
       "strain-percentage                                                            \n",
       "7a25c-0            263.0  0.770902  0.174498  0.169149  0.673982  0.829174   \n",
       "7a25c-0.5          401.0  0.785290  0.127071  0.223648  0.723442  0.820664   \n",
       "9b1-0              245.0  0.720229  0.156492  0.151063  0.644051  0.745864   \n",
       "9b1-0.5            261.0  0.735377  0.143831  0.154518  0.677418  0.770831   \n",
       "PA14-0             168.0  0.837243  0.092928  0.385988  0.802553  0.857354   \n",
       "PA14-0.5           417.0  0.861800  0.100657  0.127098  0.839724  0.886001   \n",
       "tolBKD-0           201.0  0.794446  0.143408  0.252658  0.738070  0.834386   \n",
       "tolBKD-0.5         322.0  0.841810  0.107567  0.297704  0.798816  0.870132   \n",
       "\n",
       "                        75%       max  \n",
       "strain-percentage                      \n",
       "7a25c-0            0.900009  0.985705  \n",
       "7a25c-0.5          0.872818  0.963114  \n",
       "9b1-0              0.834321  0.961780  \n",
       "9b1-0.5            0.838132  0.975701  \n",
       "PA14-0             0.901845  0.965954  \n",
       "PA14-0.5           0.923818  0.976873  \n",
       "tolBKD-0           0.895236  0.967490  \n",
       "tolBKD-0.5         0.913781  0.977694  "
      ]
     },
     "execution_count": 15,
     "metadata": {},
     "output_type": "execute_result"
    }
   ],
   "source": [
    "single_zeropointfive_df.groupby('strain-percentage')['FilteredClumpyCells_AreaShape_Eccentricity'].describe()"
   ]
  },
  {
   "cell_type": "code",
   "execution_count": 16,
   "metadata": {},
   "outputs": [
    {
     "name": "stdout",
     "output_type": "stream",
     "text": [
      "The mean for PA14-0 is 0.84 compared to 0.77 for 7a25c-0\n",
      "The p-value for 7a25c-0 compared to PA14-0 is 0.007096567549542529\n",
      "Significant \n",
      "\n",
      "The mean for PA14-0 is 0.84 compared to 0.72 for 9b1-0\n",
      "The p-value for 9b1-0 compared to PA14-0 is 4.688339830572446e-18\n",
      "Significant \n",
      "\n",
      "The mean for PA14-0 is 0.84 compared to 0.79 for tolBKD-0\n",
      "The p-value for tolBKD-0 compared to PA14-0 is 0.02197451468582178\n",
      "Not significant \n",
      "\n"
     ]
    }
   ],
   "source": [
    "# signficance testing for 0% arabinose\n",
    "\n",
    "mannwhitneyu_test(single_zero_df, 'strain-percentage', 'PA14-0', 'FilteredClumpyCells_AreaShape_Eccentricity')\n"
   ]
  },
  {
   "cell_type": "code",
   "execution_count": 17,
   "metadata": {},
   "outputs": [
    {
     "name": "stdout",
     "output_type": "stream",
     "text": [
      "The mean for PA14-0.5 is 0.86 compared to 0.79 for 7a25c-0.5\n",
      "The p-value for 7a25c-0.5 compared to PA14-0.5 is 7.950492598082339e-29\n",
      "Significant \n",
      "\n",
      "The mean for PA14-0.5 is 0.86 compared to 0.74 for 9b1-0.5\n",
      "The p-value for 9b1-0.5 compared to PA14-0.5 is 4.471666493656369e-45\n",
      "Significant \n",
      "\n",
      "The mean for PA14-0.5 is 0.86 compared to 0.84 for tolBKD-0.5\n",
      "The p-value for tolBKD-0.5 compared to PA14-0.5 is 0.0021394531019948786\n",
      "Significant \n",
      "\n"
     ]
    }
   ],
   "source": [
    "# signficance testing for 0.5% arabinose\n",
    "\n",
    "mannwhitneyu_test(single_pointfive_df, 'strain-percentage', 'PA14-0.5', 'FilteredClumpyCells_AreaShape_Eccentricity')\n"
   ]
  },
  {
   "cell_type": "markdown",
   "metadata": {},
   "source": [
    "### Conclusions\n",
    "\n",
    "Consistent with our previous analysis, the genetic strains 7a25c and 9b1 are both smaller in area and more round than the PA14 control. These changes are present in both 0% arabinose and 0.5% arabinose. The tolB-KD strain is more round at 0.5% arabinose but not 0% arabinose (although this predominantly is driven by a shift in the population size that doesn't affect the mean significantly). "
   ]
  },
  {
   "cell_type": "markdown",
   "metadata": {},
   "source": [
    "## Does morphology of bacteria contained within chains change between conditions?\n",
    "\n",
    "Here, we take advantage of the classification of bacteria into chains to investigate the morphology of the bacteria that make up those chains. \n",
    "\n",
    "### Area of bacteria w/in chains:"
   ]
  },
  {
   "cell_type": "code",
   "execution_count": 18,
   "metadata": {},
   "outputs": [
    {
     "data": {
      "text/html": [
       "<div>\n",
       "<style scoped>\n",
       "    .dataframe tbody tr th:only-of-type {\n",
       "        vertical-align: middle;\n",
       "    }\n",
       "\n",
       "    .dataframe tbody tr th {\n",
       "        vertical-align: top;\n",
       "    }\n",
       "\n",
       "    .dataframe thead th {\n",
       "        text-align: right;\n",
       "    }\n",
       "</style>\n",
       "<table border=\"1\" class=\"dataframe\">\n",
       "  <thead>\n",
       "    <tr style=\"text-align: right;\">\n",
       "      <th></th>\n",
       "      <th>ImageNumber</th>\n",
       "      <th>Metadata_strain</th>\n",
       "      <th>Metadata_percentage</th>\n",
       "      <th>AreaShape_Area</th>\n",
       "      <th>AreaShape_Eccentricity</th>\n",
       "      <th>Parent_FilteredClumpyCells</th>\n",
       "      <th>strain-percentage</th>\n",
       "      <th>ObjectNumber</th>\n",
       "      <th>class</th>\n",
       "    </tr>\n",
       "  </thead>\n",
       "  <tbody>\n",
       "    <tr>\n",
       "      <th>378</th>\n",
       "      <td>9</td>\n",
       "      <td>7a25c</td>\n",
       "      <td>0.5</td>\n",
       "      <td>272</td>\n",
       "      <td>0.603156</td>\n",
       "      <td>7</td>\n",
       "      <td>7a25c-0.5</td>\n",
       "      <td>7</td>\n",
       "      <td>chain</td>\n",
       "    </tr>\n",
       "    <tr>\n",
       "      <th>379</th>\n",
       "      <td>9</td>\n",
       "      <td>7a25c</td>\n",
       "      <td>0.5</td>\n",
       "      <td>440</td>\n",
       "      <td>0.801167</td>\n",
       "      <td>7</td>\n",
       "      <td>7a25c-0.5</td>\n",
       "      <td>7</td>\n",
       "      <td>chain</td>\n",
       "    </tr>\n",
       "    <tr>\n",
       "      <th>380</th>\n",
       "      <td>9</td>\n",
       "      <td>7a25c</td>\n",
       "      <td>0.5</td>\n",
       "      <td>192</td>\n",
       "      <td>0.600062</td>\n",
       "      <td>7</td>\n",
       "      <td>7a25c-0.5</td>\n",
       "      <td>7</td>\n",
       "      <td>chain</td>\n",
       "    </tr>\n",
       "    <tr>\n",
       "      <th>483</th>\n",
       "      <td>9</td>\n",
       "      <td>7a25c</td>\n",
       "      <td>0.5</td>\n",
       "      <td>352</td>\n",
       "      <td>0.761526</td>\n",
       "      <td>63</td>\n",
       "      <td>7a25c-0.5</td>\n",
       "      <td>63</td>\n",
       "      <td>chain</td>\n",
       "    </tr>\n",
       "    <tr>\n",
       "      <th>484</th>\n",
       "      <td>9</td>\n",
       "      <td>7a25c</td>\n",
       "      <td>0.5</td>\n",
       "      <td>485</td>\n",
       "      <td>0.805463</td>\n",
       "      <td>63</td>\n",
       "      <td>7a25c-0.5</td>\n",
       "      <td>63</td>\n",
       "      <td>chain</td>\n",
       "    </tr>\n",
       "  </tbody>\n",
       "</table>\n",
       "</div>"
      ],
      "text/plain": [
       "     ImageNumber Metadata_strain  Metadata_percentage  AreaShape_Area  \\\n",
       "378            9           7a25c                  0.5             272   \n",
       "379            9           7a25c                  0.5             440   \n",
       "380            9           7a25c                  0.5             192   \n",
       "483            9           7a25c                  0.5             352   \n",
       "484            9           7a25c                  0.5             485   \n",
       "\n",
       "     AreaShape_Eccentricity  Parent_FilteredClumpyCells strain-percentage  \\\n",
       "378                0.603156                           7         7a25c-0.5   \n",
       "379                0.801167                           7         7a25c-0.5   \n",
       "380                0.600062                           7         7a25c-0.5   \n",
       "483                0.761526                          63         7a25c-0.5   \n",
       "484                0.805463                          63         7a25c-0.5   \n",
       "\n",
       "     ObjectNumber  class  \n",
       "378             7  chain  \n",
       "379             7  chain  \n",
       "380             7  chain  \n",
       "483            63  chain  \n",
       "484            63  chain  "
      ]
     },
     "execution_count": 18,
     "metadata": {},
     "output_type": "execute_result"
    }
   ],
   "source": [
    "# import data and create dataframe for analysis\n",
    "indv_bacteria_df = pd.read_csv('PsA_FilteredCells.csv')\n",
    "indv_bacteria_df = indv_bacteria_df[['ImageNumber', 'Metadata_strain', 'Metadata_percentage', 'AreaShape_Area', 'AreaShape_Eccentricity', 'Parent_FilteredClumpyCells']]\n",
    "indv_bacteria_df['strain-percentage'] = indv_bacteria_df['Metadata_strain'] + '-' + indv_bacteria_df['Metadata_percentage'].astype(str)\n",
    "\n",
    "class_df = pseudo_df[['ImageNumber', 'ObjectNumber', 'class']]\n",
    "\n",
    "indv_bacteria_df = pd.merge(indv_bacteria_df, class_df,  how='left', left_on=['ImageNumber', 'Parent_FilteredClumpyCells'], right_on=['ImageNumber', 'ObjectNumber'])\n",
    "\n",
    "# limit analysis to 0% and 0.5% arabinose\n",
    "zeropointfive_df = indv_bacteria_df.loc[indv_bacteria_df['Metadata_percentage'].isin([0, 0.5])]\n",
    "chain_zeropointfive_df = zeropointfive_df.loc[zeropointfive_df['class'] == 'chain']\n",
    "\n",
    "chain_zeropointfive_df.head()\n"
   ]
  },
  {
   "cell_type": "code",
   "execution_count": 19,
   "metadata": {},
   "outputs": [
    {
     "data": {
      "text/plain": [
       "[Text(0, 0, 'PA14-0.0'),\n",
       " Text(1, 0, '7a25c-0.0'),\n",
       " Text(2, 0, '9b1-0.0'),\n",
       " Text(3, 0, 'tolBKD-0.0'),\n",
       " Text(4, 0, 'PA14-0.5'),\n",
       " Text(5, 0, '7a25c-0.5'),\n",
       " Text(6, 0, '9b1-0.5'),\n",
       " Text(7, 0, 'tolBKD-0.5')]"
      ]
     },
     "execution_count": 19,
     "metadata": {},
     "output_type": "execute_result"
    },
    {
     "data": {
      "image/png": "[encoded data removed]",
      "text/plain": [
       "<Figure size 432x288 with 1 Axes>"
      ]
     },
     "metadata": {
      "needs_background": "light"
     },
     "output_type": "display_data"
    }
   ],
   "source": [
    "ax = sns.boxenplot(x=\"strain-percentage\", \n",
    "                    y=\"AreaShape_Area\",\n",
    "                    data=chain_zeropointfive_df,\n",
    "                    order = ['PA14-0.0', '7a25c-0.0', '9b1-0.0', 'tolBKD-0.0', 'PA14-0.5', '7a25c-0.5',  '9b1-0.5', 'tolBKD-0.5'])\n",
    "\n",
    "ax.set_xticklabels(ax.get_xticklabels(), rotation=90)\n"
   ]
  },
  {
   "cell_type": "markdown",
   "metadata": {},
   "source": [
    "##### Underlying numbers for area of chained bacteria:"
   ]
  },
  {
   "cell_type": "code",
   "execution_count": 20,
   "metadata": {},
   "outputs": [
    {
     "data": {
      "text/html": [
       "<div>\n",
       "<style scoped>\n",
       "    .dataframe tbody tr th:only-of-type {\n",
       "        vertical-align: middle;\n",
       "    }\n",
       "\n",
       "    .dataframe tbody tr th {\n",
       "        vertical-align: top;\n",
       "    }\n",
       "\n",
       "    .dataframe thead th {\n",
       "        text-align: right;\n",
       "    }\n",
       "</style>\n",
       "<table border=\"1\" class=\"dataframe\">\n",
       "  <thead>\n",
       "    <tr style=\"text-align: right;\">\n",
       "      <th></th>\n",
       "      <th>count</th>\n",
       "      <th>mean</th>\n",
       "      <th>std</th>\n",
       "      <th>min</th>\n",
       "      <th>25%</th>\n",
       "      <th>50%</th>\n",
       "      <th>75%</th>\n",
       "      <th>max</th>\n",
       "    </tr>\n",
       "    <tr>\n",
       "      <th>strain-percentage</th>\n",
       "      <th></th>\n",
       "      <th></th>\n",
       "      <th></th>\n",
       "      <th></th>\n",
       "      <th></th>\n",
       "      <th></th>\n",
       "      <th></th>\n",
       "      <th></th>\n",
       "    </tr>\n",
       "  </thead>\n",
       "  <tbody>\n",
       "    <tr>\n",
       "      <th>7a25c-0.0</th>\n",
       "      <td>63.0</td>\n",
       "      <td>308.809524</td>\n",
       "      <td>121.067144</td>\n",
       "      <td>151.0</td>\n",
       "      <td>222.00</td>\n",
       "      <td>293.0</td>\n",
       "      <td>369.00</td>\n",
       "      <td>714.0</td>\n",
       "    </tr>\n",
       "    <tr>\n",
       "      <th>7a25c-0.5</th>\n",
       "      <td>28.0</td>\n",
       "      <td>322.000000</td>\n",
       "      <td>98.457737</td>\n",
       "      <td>151.0</td>\n",
       "      <td>255.50</td>\n",
       "      <td>325.0</td>\n",
       "      <td>369.00</td>\n",
       "      <td>530.0</td>\n",
       "    </tr>\n",
       "    <tr>\n",
       "      <th>9b1-0.0</th>\n",
       "      <td>60.0</td>\n",
       "      <td>338.800000</td>\n",
       "      <td>109.983635</td>\n",
       "      <td>161.0</td>\n",
       "      <td>253.00</td>\n",
       "      <td>334.5</td>\n",
       "      <td>420.00</td>\n",
       "      <td>559.0</td>\n",
       "    </tr>\n",
       "    <tr>\n",
       "      <th>9b1-0.5</th>\n",
       "      <td>12.0</td>\n",
       "      <td>308.666667</td>\n",
       "      <td>65.524920</td>\n",
       "      <td>173.0</td>\n",
       "      <td>282.25</td>\n",
       "      <td>297.0</td>\n",
       "      <td>352.75</td>\n",
       "      <td>409.0</td>\n",
       "    </tr>\n",
       "    <tr>\n",
       "      <th>PA14-0.0</th>\n",
       "      <td>6.0</td>\n",
       "      <td>414.833333</td>\n",
       "      <td>105.808160</td>\n",
       "      <td>293.0</td>\n",
       "      <td>352.50</td>\n",
       "      <td>384.0</td>\n",
       "      <td>477.00</td>\n",
       "      <td>578.0</td>\n",
       "    </tr>\n",
       "    <tr>\n",
       "      <th>PA14-0.5</th>\n",
       "      <td>30.0</td>\n",
       "      <td>397.700000</td>\n",
       "      <td>165.000345</td>\n",
       "      <td>212.0</td>\n",
       "      <td>280.25</td>\n",
       "      <td>337.0</td>\n",
       "      <td>442.75</td>\n",
       "      <td>835.0</td>\n",
       "    </tr>\n",
       "    <tr>\n",
       "      <th>tolBKD-0.0</th>\n",
       "      <td>68.0</td>\n",
       "      <td>331.147059</td>\n",
       "      <td>95.134197</td>\n",
       "      <td>179.0</td>\n",
       "      <td>277.00</td>\n",
       "      <td>309.5</td>\n",
       "      <td>357.00</td>\n",
       "      <td>648.0</td>\n",
       "    </tr>\n",
       "    <tr>\n",
       "      <th>tolBKD-0.5</th>\n",
       "      <td>21.0</td>\n",
       "      <td>349.571429</td>\n",
       "      <td>108.911694</td>\n",
       "      <td>163.0</td>\n",
       "      <td>283.00</td>\n",
       "      <td>344.0</td>\n",
       "      <td>435.00</td>\n",
       "      <td>585.0</td>\n",
       "    </tr>\n",
       "  </tbody>\n",
       "</table>\n",
       "</div>"
      ],
      "text/plain": [
       "                   count        mean         std    min     25%    50%  \\\n",
       "strain-percentage                                                        \n",
       "7a25c-0.0           63.0  308.809524  121.067144  151.0  222.00  293.0   \n",
       "7a25c-0.5           28.0  322.000000   98.457737  151.0  255.50  325.0   \n",
       "9b1-0.0             60.0  338.800000  109.983635  161.0  253.00  334.5   \n",
       "9b1-0.5             12.0  308.666667   65.524920  173.0  282.25  297.0   \n",
       "PA14-0.0             6.0  414.833333  105.808160  293.0  352.50  384.0   \n",
       "PA14-0.5            30.0  397.700000  165.000345  212.0  280.25  337.0   \n",
       "tolBKD-0.0          68.0  331.147059   95.134197  179.0  277.00  309.5   \n",
       "tolBKD-0.5          21.0  349.571429  108.911694  163.0  283.00  344.0   \n",
       "\n",
       "                      75%    max  \n",
       "strain-percentage                 \n",
       "7a25c-0.0          369.00  714.0  \n",
       "7a25c-0.5          369.00  530.0  \n",
       "9b1-0.0            420.00  559.0  \n",
       "9b1-0.5            352.75  409.0  \n",
       "PA14-0.0           477.00  578.0  \n",
       "PA14-0.5           442.75  835.0  \n",
       "tolBKD-0.0         357.00  648.0  \n",
       "tolBKD-0.5         435.00  585.0  "
      ]
     },
     "execution_count": 20,
     "metadata": {},
     "output_type": "execute_result"
    }
   ],
   "source": [
    "chain_zeropointfive_df.groupby('strain-percentage')['AreaShape_Area'].describe()"
   ]
  },
  {
   "cell_type": "code",
   "execution_count": 21,
   "metadata": {},
   "outputs": [
    {
     "name": "stdout",
     "output_type": "stream",
     "text": [
      "The mean for PA14-0.0 is 414.83 compared to 308.81 for 7a25c-0.0\n",
      "The p-value for 7a25c-0.0 compared to PA14-0.0 is 0.02826155169251302\n",
      "Not significant \n",
      "\n",
      "The mean for PA14-0.0 is 414.83 compared to 338.8 for 9b1-0.0\n",
      "The p-value for 9b1-0.0 compared to PA14-0.0 is 0.1265315343690449\n",
      "Not significant \n",
      "\n",
      "The mean for PA14-0.0 is 414.83 compared to 331.15 for tolBKD-0.0\n",
      "The p-value for tolBKD-0.0 compared to PA14-0.0 is 0.035793261419984124\n",
      "Not significant \n",
      "\n"
     ]
    }
   ],
   "source": [
    "# create dataframes for significance testing\n",
    "single_zero_df = chain_zeropointfive_df.loc[chain_zeropointfive_df['Metadata_percentage'] == 0.0]\n",
    "single_pointfive_df = chain_zeropointfive_df.loc[chain_zeropointfive_df['Metadata_percentage'] == 0.5]\n",
    "\n",
    "# signficance testing for 0.0% arabinose\n",
    "mannwhitneyu_test(single_zero_df, 'strain-percentage', 'PA14-0.0', 'AreaShape_Area')\n"
   ]
  },
  {
   "cell_type": "code",
   "execution_count": 22,
   "metadata": {},
   "outputs": [
    {
     "name": "stdout",
     "output_type": "stream",
     "text": [
      "The mean for PA14-0.5 is 397.7 compared to 322.0 for 7a25c-0.5\n",
      "The p-value for 7a25c-0.5 compared to PA14-0.5 is 0.18335736931653168\n",
      "Not significant \n",
      "\n",
      "The mean for PA14-0.5 is 397.7 compared to 308.67 for 9b1-0.5\n",
      "The p-value for 9b1-0.5 compared to PA14-0.5 is 0.18598076371036065\n",
      "Not significant \n",
      "\n",
      "The mean for PA14-0.5 is 397.7 compared to 349.57 for tolBKD-0.5\n",
      "The p-value for tolBKD-0.5 compared to PA14-0.5 is 0.6255109506681185\n",
      "Not significant \n",
      "\n"
     ]
    }
   ],
   "source": [
    "# signficance testing for 0.5% arabinose\n",
    "mannwhitneyu_test(single_pointfive_df, 'strain-percentage', 'PA14-0.5', 'AreaShape_Area')\n"
   ]
  },
  {
   "cell_type": "markdown",
   "metadata": {},
   "source": [
    "### Testing if eccentricity changes"
   ]
  },
  {
   "cell_type": "code",
   "execution_count": 23,
   "metadata": {},
   "outputs": [
    {
     "data": {
      "text/plain": [
       "[Text(0, 0, 'PA14-0.0'),\n",
       " Text(1, 0, '7a25c-0.0'),\n",
       " Text(2, 0, '9b1-0.0'),\n",
       " Text(3, 0, 'tolBKD-0.0'),\n",
       " Text(4, 0, 'PA14-0.5'),\n",
       " Text(5, 0, '7a25c-0.5'),\n",
       " Text(6, 0, '9b1-0.5'),\n",
       " Text(7, 0, 'tolBKD-0.5')]"
      ]
     },
     "execution_count": 23,
     "metadata": {},
     "output_type": "execute_result"
    },
    {
     "data": {
      "image/png": "[encoded data removed]",
      "text/plain": [
       "<Figure size 432x288 with 1 Axes>"
      ]
     },
     "metadata": {
      "needs_background": "light"
     },
     "output_type": "display_data"
    }
   ],
   "source": [
    "ax = sns.boxenplot(x=\"strain-percentage\", \n",
    "                    y=\"AreaShape_Eccentricity\",\n",
    "                    data=chain_zeropointfive_df,\n",
    "                    order = ['PA14-0.0', '7a25c-0.0', '9b1-0.0', 'tolBKD-0.0',\n",
    "                             'PA14-0.5', '7a25c-0.5',  '9b1-0.5', 'tolBKD-0.5'])\n",
    "\n",
    "ax.set_xticklabels(ax.get_xticklabels(), rotation=90)\n"
   ]
  },
  {
   "cell_type": "markdown",
   "metadata": {},
   "source": [
    "##### Underlying numbers for eccentricity of chained bacteria:"
   ]
  },
  {
   "cell_type": "code",
   "execution_count": 24,
   "metadata": {},
   "outputs": [
    {
     "data": {
      "text/html": [
       "<div>\n",
       "<style scoped>\n",
       "    .dataframe tbody tr th:only-of-type {\n",
       "        vertical-align: middle;\n",
       "    }\n",
       "\n",
       "    .dataframe tbody tr th {\n",
       "        vertical-align: top;\n",
       "    }\n",
       "\n",
       "    .dataframe thead th {\n",
       "        text-align: right;\n",
       "    }\n",
       "</style>\n",
       "<table border=\"1\" class=\"dataframe\">\n",
       "  <thead>\n",
       "    <tr style=\"text-align: right;\">\n",
       "      <th></th>\n",
       "      <th>count</th>\n",
       "      <th>mean</th>\n",
       "      <th>std</th>\n",
       "      <th>min</th>\n",
       "      <th>25%</th>\n",
       "      <th>50%</th>\n",
       "      <th>75%</th>\n",
       "      <th>max</th>\n",
       "    </tr>\n",
       "    <tr>\n",
       "      <th>strain-percentage</th>\n",
       "      <th></th>\n",
       "      <th></th>\n",
       "      <th></th>\n",
       "      <th></th>\n",
       "      <th></th>\n",
       "      <th></th>\n",
       "      <th></th>\n",
       "      <th></th>\n",
       "    </tr>\n",
       "  </thead>\n",
       "  <tbody>\n",
       "    <tr>\n",
       "      <th>7a25c-0.0</th>\n",
       "      <td>63.0</td>\n",
       "      <td>0.671149</td>\n",
       "      <td>0.168966</td>\n",
       "      <td>0.237829</td>\n",
       "      <td>0.574081</td>\n",
       "      <td>0.695963</td>\n",
       "      <td>0.793620</td>\n",
       "      <td>0.932757</td>\n",
       "    </tr>\n",
       "    <tr>\n",
       "      <th>7a25c-0.5</th>\n",
       "      <td>28.0</td>\n",
       "      <td>0.659079</td>\n",
       "      <td>0.131395</td>\n",
       "      <td>0.377730</td>\n",
       "      <td>0.563210</td>\n",
       "      <td>0.673893</td>\n",
       "      <td>0.763683</td>\n",
       "      <td>0.879866</td>\n",
       "    </tr>\n",
       "    <tr>\n",
       "      <th>9b1-0.0</th>\n",
       "      <td>60.0</td>\n",
       "      <td>0.635385</td>\n",
       "      <td>0.158014</td>\n",
       "      <td>0.287214</td>\n",
       "      <td>0.520070</td>\n",
       "      <td>0.695794</td>\n",
       "      <td>0.763512</td>\n",
       "      <td>0.901446</td>\n",
       "    </tr>\n",
       "    <tr>\n",
       "      <th>9b1-0.5</th>\n",
       "      <td>12.0</td>\n",
       "      <td>0.594856</td>\n",
       "      <td>0.165130</td>\n",
       "      <td>0.219588</td>\n",
       "      <td>0.545718</td>\n",
       "      <td>0.605787</td>\n",
       "      <td>0.721643</td>\n",
       "      <td>0.815231</td>\n",
       "    </tr>\n",
       "    <tr>\n",
       "      <th>PA14-0.0</th>\n",
       "      <td>6.0</td>\n",
       "      <td>0.654759</td>\n",
       "      <td>0.190844</td>\n",
       "      <td>0.362382</td>\n",
       "      <td>0.542918</td>\n",
       "      <td>0.689401</td>\n",
       "      <td>0.805895</td>\n",
       "      <td>0.848552</td>\n",
       "    </tr>\n",
       "    <tr>\n",
       "      <th>PA14-0.5</th>\n",
       "      <td>30.0</td>\n",
       "      <td>0.719274</td>\n",
       "      <td>0.162692</td>\n",
       "      <td>0.388576</td>\n",
       "      <td>0.610394</td>\n",
       "      <td>0.741475</td>\n",
       "      <td>0.847706</td>\n",
       "      <td>0.949896</td>\n",
       "    </tr>\n",
       "    <tr>\n",
       "      <th>tolBKD-0.0</th>\n",
       "      <td>68.0</td>\n",
       "      <td>0.608509</td>\n",
       "      <td>0.156759</td>\n",
       "      <td>0.221091</td>\n",
       "      <td>0.482318</td>\n",
       "      <td>0.642550</td>\n",
       "      <td>0.721265</td>\n",
       "      <td>0.893658</td>\n",
       "    </tr>\n",
       "    <tr>\n",
       "      <th>tolBKD-0.5</th>\n",
       "      <td>21.0</td>\n",
       "      <td>0.717555</td>\n",
       "      <td>0.150154</td>\n",
       "      <td>0.358280</td>\n",
       "      <td>0.633320</td>\n",
       "      <td>0.756241</td>\n",
       "      <td>0.838991</td>\n",
       "      <td>0.927188</td>\n",
       "    </tr>\n",
       "  </tbody>\n",
       "</table>\n",
       "</div>"
      ],
      "text/plain": [
       "                   count      mean       std       min       25%       50%  \\\n",
       "strain-percentage                                                            \n",
       "7a25c-0.0           63.0  0.671149  0.168966  0.237829  0.574081  0.695963   \n",
       "7a25c-0.5           28.0  0.659079  0.131395  0.377730  0.563210  0.673893   \n",
       "9b1-0.0             60.0  0.635385  0.158014  0.287214  0.520070  0.695794   \n",
       "9b1-0.5             12.0  0.594856  0.165130  0.219588  0.545718  0.605787   \n",
       "PA14-0.0             6.0  0.654759  0.190844  0.362382  0.542918  0.689401   \n",
       "PA14-0.5            30.0  0.719274  0.162692  0.388576  0.610394  0.741475   \n",
       "tolBKD-0.0          68.0  0.608509  0.156759  0.221091  0.482318  0.642550   \n",
       "tolBKD-0.5          21.0  0.717555  0.150154  0.358280  0.633320  0.756241   \n",
       "\n",
       "                        75%       max  \n",
       "strain-percentage                      \n",
       "7a25c-0.0          0.793620  0.932757  \n",
       "7a25c-0.5          0.763683  0.879866  \n",
       "9b1-0.0            0.763512  0.901446  \n",
       "9b1-0.5            0.721643  0.815231  \n",
       "PA14-0.0           0.805895  0.848552  \n",
       "PA14-0.5           0.847706  0.949896  \n",
       "tolBKD-0.0         0.721265  0.893658  \n",
       "tolBKD-0.5         0.838991  0.927188  "
      ]
     },
     "execution_count": 24,
     "metadata": {},
     "output_type": "execute_result"
    }
   ],
   "source": [
    "chain_zeropointfive_df.groupby('strain-percentage')['AreaShape_Eccentricity'].describe()"
   ]
  },
  {
   "cell_type": "code",
   "execution_count": 25,
   "metadata": {},
   "outputs": [
    {
     "name": "stdout",
     "output_type": "stream",
     "text": [
      "The mean for PA14-0.0 is 0.65 compared to 0.67 for 7a25c-0.0\n",
      "The p-value for 7a25c-0.0 compared to PA14-0.0 is 0.8899059185042381\n",
      "Not significant \n",
      "\n",
      "The mean for PA14-0.0 is 0.65 compared to 0.64 for 9b1-0.0\n",
      "The p-value for 9b1-0.0 compared to PA14-0.0 is 0.7463754363966302\n",
      "Not significant \n",
      "\n",
      "The mean for PA14-0.0 is 0.65 compared to 0.61 for tolBKD-0.0\n",
      "The p-value for tolBKD-0.0 compared to PA14-0.0 is 0.4458131869738148\n",
      "Not significant \n",
      "\n"
     ]
    }
   ],
   "source": [
    "# signficance testing for 0% arabinose\n",
    "\n",
    "mannwhitneyu_test(single_zero_df, 'strain-percentage', 'PA14-0.0', 'AreaShape_Eccentricity')\n"
   ]
  },
  {
   "cell_type": "code",
   "execution_count": 26,
   "metadata": {},
   "outputs": [
    {
     "name": "stdout",
     "output_type": "stream",
     "text": [
      "The mean for PA14-0.5 is 0.72 compared to 0.66 for 7a25c-0.5\n",
      "The p-value for 7a25c-0.5 compared to PA14-0.5 is 0.08274054875252546\n",
      "Not significant \n",
      "\n",
      "The mean for PA14-0.5 is 0.72 compared to 0.59 for 9b1-0.5\n",
      "The p-value for 9b1-0.5 compared to PA14-0.5 is 0.0435322523487588\n",
      "Not significant \n",
      "\n",
      "The mean for PA14-0.5 is 0.72 compared to 0.72 for tolBKD-0.5\n",
      "The p-value for tolBKD-0.5 compared to PA14-0.5 is 0.9465925199935714\n",
      "Not significant \n",
      "\n"
     ]
    }
   ],
   "source": [
    "# signficance testing for 0.5% arabinose\n",
    "\n",
    "mannwhitneyu_test(single_pointfive_df, 'strain-percentage', 'PA14-0.5', 'AreaShape_Eccentricity')\n"
   ]
  },
  {
   "cell_type": "markdown",
   "metadata": {},
   "source": [
    "### Conclusions\n",
    "\n",
    "We do not find significant changes in area for bacteria w/in chains, although the low numbers for some of the conditions may preclude finding anything significant (for example, only 6 bacteria were detected within chains for the 9b1 strain treated w/ 0.5% arabinose and only 8 bacteria were contained within strains for the PA14 strain at 0.0% arabinose). For eccentricity, the only significant finding is that bacteria within chains is the 7a25c and 9b1 strains treated w/ 0.5% arabinose are more round than control."
   ]
  }
 ],
 "metadata": {
  "kernelspec": {
   "display_name": "Python 3",
   "language": "python",
   "name": "python3"
  },
  "language_info": {
   "codemirror_mode": {
    "name": "ipython",
    "version": 3
   },
   "file_extension": ".py",
   "mimetype": "text/x-python",
   "name": "python",
   "nbconvert_exporter": "python",
   "pygments_lexer": "ipython3",
   "version": "3.9.2"
  }
 },
 "nbformat": 4,
 "nbformat_minor": 4
}
